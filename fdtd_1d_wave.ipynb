{
 "metadata": {
  "name": ""
 },
 "nbformat": 3,
 "nbformat_minor": 0,
 "worksheets": [
  {
   "cells": [
    {
     "cell_type": "heading",
     "level": 1,
     "metadata": {},
     "source": [
      "Numeri\u010dko rje\u0161enje valne jednad\u017ebe na idealnom vodu (FDTD)"
     ]
    },
    {
     "cell_type": "markdown",
     "metadata": {},
     "source": [
      "Rje\u0161avanje valne jednad\u017ebe kori\u0161tenjem metode kona\u010dnih diferencija. \n",
      "Finite-Difference Time-Domain Solution of the 1D Wave equation \n",
      "(Hyperbolic Partial Differential Equation) "
     ]
    },
    {
     "cell_type": "markdown",
     "metadata": {},
     "source": [
      "Valne (telegrafske) jednad\u017ebe za slu\u010daj idealnog voda glase:"
     ]
    },
    {
     "cell_type": "markdown",
     "metadata": {},
     "source": [
      "$ { \\partial^2 u(x,t) \\over \\partial x^2 } = {L_1 \\cdot C_1 \\cdot { \\partial^2 u(x,t) \\over \\partial t^2 } } $"
     ]
    },
    {
     "cell_type": "markdown",
     "metadata": {},
     "source": [
      "$ { \\partial^2 i(x,t) \\over \\partial x^2 } = {L_1 \\cdot C_1 \\cdot { \\partial^2 i(x,t) \\over \\partial t^2 } } $"
     ]
    },
    {
     "cell_type": "markdown",
     "metadata": {},
     "source": [
      "Promatra se numeri\u010dka simulacija propagacije Gaussovog impulsa po idealnom vodu koji mo\u017ee \n",
      "sadr\u017eavati diskontinuitet valne impedancije, na primjer, na svojoj sredini (prema slici). \n",
      "Na mjestu promjene valne impedancije sredstva dolazi do pojave loma i refleksije putnog vala (strujnog i naponskog)."
     ]
    },
    {
     "cell_type": "markdown",
     "metadata": {},
     "source": [
      "<img scale=0.5 src=\"http://upload.wikimedia.org/wikipedia/en/thumb/1/17/Mismatched_transmission_line.svg/1503px-Mismatched_transmission_line.svg.png\" width=900></img>"
     ]
    },
    {
     "cell_type": "heading",
     "level": 4,
     "metadata": {},
     "source": [
      "U nastavku se promatra pojava refleksije i transmisije naponskog putnog vala na nehomogenom vodu "
     ]
    },
    {
     "cell_type": "markdown",
     "metadata": {},
     "source": [
      "Koeficijent refleksije na mjestu promjene valne impedancije definiran je sljede\u0107im izrazom:"
     ]
    },
    {
     "cell_type": "markdown",
     "metadata": {},
     "source": [
      "$ \\Gamma = { {Z_{02}-Z_{01}} \\over {Z_{01}+Z_{02}} } $ "
     ]
    },
    {
     "cell_type": "markdown",
     "metadata": {},
     "source": [
      "dok je istovremeno koeficijent transmisije definiran izrazom:"
     ]
    },
    {
     "cell_type": "markdown",
     "metadata": {},
     "source": [
      "$ T = { {2 \\cdot Z_{02}} \\over {Z_{01}+Z_{02}} } $"
     ]
    },
    {
     "cell_type": "markdown",
     "metadata": {},
     "source": [
      "Neka se, primjera radi, usvoji da vrijedi sljede\u0107i odnos valnih impedancija:"
     ]
    },
    {
     "cell_type": "markdown",
     "metadata": {},
     "source": [
      "$ Z_{01} = 2 \\cdot Z_{02} $"
     ]
    },
    {
     "cell_type": "markdown",
     "metadata": {},
     "source": [
      "U tom slu\u010daju koeficijent reflekcije i koeficijent transmisije (naponskog putnog vala) poprimaju sljede\u0107e vrijednosti:"
     ]
    },
    {
     "cell_type": "markdown",
     "metadata": {},
     "source": [
      "$ \\Gamma = { {Z_{02} - 2 \\cdot Z_{02}} \\over {2 \\cdot Z_{02}+Z_{02}} } = - {1 \\over 3} $"
     ]
    },
    {
     "cell_type": "markdown",
     "metadata": {},
     "source": [
      "$ T = { {2 \\cdot Z_{02}} \\over {2 \\cdot Z_{02}+Z_{02}} } = {2 \\over 3} $"
     ]
    },
    {
     "cell_type": "markdown",
     "metadata": {},
     "source": [
      "U slu\u010daju, pak, da vrijedi sljede\u0107i odnos valnih impedancija:"
     ]
    },
    {
     "cell_type": "markdown",
     "metadata": {},
     "source": [
      "$ Z_{01} = {1 \\over 2} \\cdot Z_{02} $"
     ]
    },
    {
     "cell_type": "markdown",
     "metadata": {},
     "source": [
      "tada koeficijent refleksije i koeficijent transmisije (naponskog putnog vala) poprimaju sljede\u0107e vrijednosti:"
     ]
    },
    {
     "cell_type": "markdown",
     "metadata": {},
     "source": [
      "$ \\Gamma = { {2 \\cdot Z_{01}-Z_{01}} \\over {Z_{01}+2 \\cdot Z_{01}} } = {1 \\over 3} $"
     ]
    },
    {
     "cell_type": "markdown",
     "metadata": {},
     "source": [
      "$ T = { {2 \\cdot (2 \\cdot Z_{01})} \\over {Z_{01}+2 \\cdot Z_{01}} } = {4 \\over 3} $"
     ]
    },
    {
     "cell_type": "markdown",
     "metadata": {},
     "source": [
      "Ako naponski putni val nai\u0111e na mjesto kratkog spoja prijenosnog voda $ (Z_{02} = 0) $ vrijede sljede\u0107i koeficijenti transmisije i refleksije:"
     ]
    },
    {
     "cell_type": "markdown",
     "metadata": {},
     "source": [
      "$ \\Gamma = { {0-Z_{01}} \\over {Z_{01}+0} } = -1 $"
     ]
    },
    {
     "cell_type": "markdown",
     "metadata": {},
     "source": [
      "$ T = { {2 \\cdot 0} \\over {Z_{01}+0} } = 0 $"
     ]
    },
    {
     "cell_type": "markdown",
     "metadata": {},
     "source": [
      "Tako\u0111er se mo\u017ee promatrati i situacija kod koje je jedan prijenosni vod odredjene valne impedancije umetnut u drugi prijenosni vod razlicite valne impedancije. Na mjestu promjene valne impedancije sredstva (voda) dolazi, dakako, do loma i refleksije putnog vala."
     ]
    },
    {
     "cell_type": "raw",
     "metadata": {},
     "source": [
      "Objasnjenje varijabli programa:\n",
      " L  - duljina voda\n",
      " T  - vrijeme promatranja pojave\n",
      " dx - prostorni korak proracuna\n",
      " dt - vremenski korak proracuna\n",
      " v  - brzina propagacije putnog vala\n",
      " opcija - vrsta prijenosnog voda po kojem se siri putni val:\n",
      "    (1) - Homogeni vod\n",
      "          vod je bez promjene valne impedancije\n",
      "    (2) - Nehomogeni vod (prijelaz zracni vod - kabel)\n",
      "          vod sadrzi tocku diskontinuiteta na svojoj sredini, tj. mijenja mu se valna impedancija na polovicu,\n",
      "          sto znaci da se brzina propagacije putnog vala smanjuje na pola.\n",
      "    (3) - Nehomogeni vod (Kabel umetnut u zracni vod)\n",
      "          vod sadrzi dvije promjene valne impedancije na prvoj trecini i na drugoj trecini, pri cemu je srednji dio\n",
      "          voda karakteriziran vecom specif. el. permeabilnoscu (npr. dionica kabela umetnuta u nadzemni vod).\n",
      "    (4) - Nehomogeni vod (prijelaz kabel u zracni vod)\n",
      "          vod sadrzi jednu promjena valne impedancije, ali u ovom slucaju putni val ide iz sredstva vece relati-\n",
      "          vne dielektricnosti (tj. manje valne impedancije) u sredstvo manje relativne dielektricnosti (tj. zrak) "
     ]
    },
    {
     "cell_type": "code",
     "collapsed": false,
     "input": [
      "# Import modules\n",
      "import numpy as np\n",
      "import matplotlib.pyplot as plt\n",
      "import matplotlib.animation as animation"
     ],
     "language": "python",
     "metadata": {},
     "outputs": [],
     "prompt_number": 1
    },
    {
     "cell_type": "code",
     "collapsed": false,
     "input": [
      "# Definiranje gaussovog impulsa koji propagira po vodu\n",
      "def gauss(t):\n",
      "    tu = 0.1\n",
      "    sigma = 0.05\n",
      "    gauss = np.exp(-(tu-t)**2/(2.*sigma**2))\n",
      "    return gauss"
     ],
     "language": "python",
     "metadata": {},
     "outputs": [],
     "prompt_number": 2
    },
    {
     "cell_type": "code",
     "collapsed": false,
     "input": [
      "# Ulazni podaci za proracun:\n",
      "L = 1.; T = 3.4\n",
      "dx = 0.001; dt = 0.0005\n",
      "v = 1.\n",
      "\n",
      "# Rubni uvjeti \n",
      "# (vod je u kratkom spoju na svoje obje strane)\n",
      "fi1 = 0.; fi2 = 0.\n",
      "\n",
      "# Napomena:\n",
      "# opcija = 1 <=> homogeni vod\n",
      "# opcija = 2 <=> prijelaz zracni vod - kabel\n",
      "# opcija = 3 <=> kabel umetnut u zracni vod\n",
      "# opcija = 4 <=> prijelaz kabel u zracni vod\n",
      "opcija = 2"
     ],
     "language": "python",
     "metadata": {},
     "outputs": [],
     "prompt_number": 3
    },
    {
     "cell_type": "code",
     "collapsed": false,
     "input": [
      "Nx = int(L/dx)\n",
      "Nt = int(T/dt)\n",
      "r = np.zeros(Nx+1)\n",
      "\n",
      "if opcija == 1:\n",
      "    # Homogeni vod (bez promjene valne imped.)\n",
      "    for i in xrange(Nx+1):\n",
      "        r[i] = ((v*dt)/dx)**2\n",
      "        \n",
      "elif opcija == 2:\n",
      "    # Nehomogeni vod\n",
      "    # Val iz sredstva vece valne impedancije prodire u sredstvo manje valne impedancije\n",
      "    for i in xrange(Nx+1):\n",
      "        if i <= Nx/2:\n",
      "            r[i] = ((v*dt)/dx)**2\n",
      "        else:\n",
      "            r[i] = (((v/2.)*dt)/dx)**2\n",
      "            \n",
      "elif opcija == 3:\n",
      "    # Nehomogeni vod\n",
      "    # Dvije promjene sredstva (na svakoj trecini)\n",
      "    # Srednji dio je manje valne impedancije od krajnjih dijelova\n",
      "    # (npr. kabelski vod umetnut u dalekovod)\n",
      "    for i in xrange(Nx+1):\n",
      "        if i <= Nx/3:\n",
      "            r[i] = ((v*dt)/dx)**2\n",
      "        elif i >= 2*Nx/3:\n",
      "            r[i] = ((v*dt)/dx)**2\n",
      "        else:\n",
      "            r[i] = (((v/2.)*dt)/dx)**2\n",
      "            \n",
      "elif opcija == 4:\n",
      "    # Nehomogeni vod\n",
      "    # Val iz sredstva manje valne impedancije prodire u sredstvo vece valne impedancije\n",
      "    for i in xrange(Nx+1):\n",
      "        if i <= Nx/2:\n",
      "            r[i] = (((v/2.)*dt)/dx)**2\n",
      "        else:\n",
      "            r[i] = ((v*dt)/dx)**2"
     ],
     "language": "python",
     "metadata": {},
     "outputs": [],
     "prompt_number": 4
    },
    {
     "cell_type": "code",
     "collapsed": false,
     "input": [
      "# Inicijalizacija\n",
      "fi = np.zeros(Nx*Nt).reshape(Nx,Nt)\n",
      "\n",
      "# Definiranje rubnih uvjeta\n",
      "for j in xrange(1,Nt):\n",
      "    fi[0,j] = fi1\n",
      "    fi[Nx-1,j] = fi2\n",
      "    \n",
      "# Definiranje pocetnih uvjeta\n",
      "for j in xrange(Nt):\n",
      "    ti = float(j)*dt\n",
      "    fi[0,j] = gauss(ti)\n",
      "for i in xrange(1,Nx-1):\n",
      "    fi[i,1] = (1.-r[i])*fi[i,0] + (r[i]/2.)*(fi[i-1,0]+fi[i+1,0])"
     ],
     "language": "python",
     "metadata": {},
     "outputs": [],
     "prompt_number": 5
    },
    {
     "cell_type": "code",
     "collapsed": false,
     "input": [
      "# FDTD simulacija\n",
      "for j in xrange(1,Nt-1):\n",
      "\tfor i in xrange(1,Nx-1):\n",
      "\t\tfi[i,j+1] = (2.*(1.-r[i]))*fi[i,j] + r[i]*(fi[i+1,j]+fi[i-1,j]) - fi[i,j-1]"
     ],
     "language": "python",
     "metadata": {},
     "outputs": [],
     "prompt_number": 6
    },
    {
     "cell_type": "code",
     "collapsed": false,
     "input": [
      "# Animation\n",
      "def init():\n",
      "    line.set_ydata(np.ma.array(x, mask=True))\n",
      "    return line,\n",
      "\n",
      "def animate(i):\n",
      "    line.set_ydata(fi[:,i])  # update the data\n",
      "    return line,\n",
      "\n",
      "if opcija == 1:\n",
      "    # Homogeni vod\n",
      "    fig, ax = plt.subplots()\n",
      "    x = np.linspace(0., L, Nx)  # x-axis\n",
      "    line, = ax.plot(x, fi[:,0])\n",
      "    ax.set_xlim(x[0], x[-1])\n",
      "    ax.set_ylim(-1., 1.)\n",
      "    ax.set_xlabel('udaljenost (r.j.)')\n",
      "    ax.set_ylabel('napon (r.j.)')\n",
      "    ax.grid(True)\n",
      "    ani = animation.FuncAnimation(fig, animate, np.arange(0, Nt, 20, dtype=int), \n",
      "                                  init_func=init, blit=True)\n",
      "    plt.show()\n",
      "\n",
      "elif opcija == 2:\n",
      "    # Nehomogeni vod (2 voda)\n",
      "    fig, ax = plt.subplots()\n",
      "    x0 = np.zeros(2)+0.5\n",
      "    y0 = np.linspace(-1., 1., 2)\n",
      "    x = np.linspace(0., L, Nx)  # x-axis\n",
      "    line, = ax.plot(x, fi[:,0])\n",
      "    ax.plot(x0, y0, 'k--')\n",
      "    ax.set_xlim(x[0], x[-1])\n",
      "    ax.set_ylim(-1., 1.)\n",
      "    ax.set_xlabel('udaljenost (r.j.)')\n",
      "    ax.set_ylabel('napon (r.j.)')\n",
      "    ax.grid(True)\n",
      "    ani = animation.FuncAnimation(fig, animate, np.arange(0, Nt, 20, dtype=int), \n",
      "                                  init_func=init, blit=True)\n",
      "    plt.show()\n",
      "\n",
      "elif opcija == 3:\n",
      "    # Nehomogeni vod (3 voda)\n",
      "    fig, ax = plt.subplots()\n",
      "    x0 = np.zeros(2)+0.33\n",
      "    y0 = np.linspace(-1., 1., 2)\n",
      "    x1 = np.zeros(2)+0.66\n",
      "    y1 = np.linspace(-1., 1., 2)\n",
      "    x = np.linspace(0., L, Nx)  # x-axis\n",
      "    line, = ax.plot(x, fi[:,0])\n",
      "    ax.plot(x0, y0, 'k--')\n",
      "    ax.plot(x1, y1, 'k--')\n",
      "    ax.set_xlim(x[0], x[-1])\n",
      "    ax.set_ylim(-1., 1.)\n",
      "    ax.set_xlabel('udaljenost (r.j.)')\n",
      "    ax.set_ylabel('napon (r.j.)')    \n",
      "    ax.grid(True)\n",
      "    ani = animation.FuncAnimation(fig, animate, np.arange(0, Nt, 20, dtype=int), \n",
      "                                  init_func=init, blit=True)\n",
      "    plt.show()\n",
      "\n",
      "elif opcija == 4:\n",
      "    # Nehomogeni vod (2 voda)\n",
      "    fig, ax = plt.subplots()\n",
      "    x0 = np.zeros(2)+0.5\n",
      "    y0 = np.linspace(-1.5, 1.5, 2)\n",
      "    x = np.linspace(0., L, Nx)  # x-axis\n",
      "    line, = ax.plot(x, fi[:,0])\n",
      "    ax.plot(x0, y0, 'k--')\n",
      "    ax.set_xlim(x[0], x[-1])\n",
      "    ax.set_ylim(-1.5, 1.5)\n",
      "    ax.set_xlabel('udaljenost (r.j.)')\n",
      "    ax.set_ylabel('napon (r.j.)')    \n",
      "    ax.grid(True)\n",
      "    ani = animation.FuncAnimation(fig, animate, np.arange(0, Nt, 20, dtype=int), \n",
      "                                  init_func=init, blit=True)\n",
      "    plt.show()"
     ],
     "language": "python",
     "metadata": {},
     "outputs": [],
     "prompt_number": 7
    },
    {
     "cell_type": "code",
     "collapsed": false,
     "input": [],
     "language": "python",
     "metadata": {},
     "outputs": [],
     "prompt_number": 7
    }
   ],
   "metadata": {}
  }
 ]
}